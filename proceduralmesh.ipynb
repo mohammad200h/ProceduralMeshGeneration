{
 "cells": [
  {
   "cell_type": "code",
   "execution_count": 1,
   "metadata": {},
   "outputs": [],
   "source": [
    "import cadquery as cq\n",
    "from cadquery.vis import show, show_object\n",
    "import pyvista as pv"
   ]
  },
  {
   "cell_type": "markdown",
   "metadata": {},
   "source": [
    "### sketch\n"
   ]
  },
  {
   "cell_type": "markdown",
   "metadata": {},
   "source": [
    "sketches are the building block of cad models. Everything start by drawing in 2D space and then performing an operation to create a 3D object from the 2D sketch.\n",
    "Here we will learn about sketches.\n",
    "First we will look at how to create a sketch."
   ]
  },
  {
   "cell_type": "code",
   "execution_count": 42,
   "metadata": {},
   "outputs": [],
   "source": [
    "s = cq.Sketch()\n",
    "show_object(s)"
   ]
  },
  {
   "cell_type": "markdown",
   "metadata": {},
   "source": [
    "if we visulize the sketch using \"show_object\" function we can see no elements. This make sense since nothing has been added to the sketch.\n",
    "There are two types of operation that can be preformed on a sketch:\n",
    "1. selection\n",
    "2. create\n",
    "\n",
    "First we will look at create. We will create a Trapezoid and visulize it."
   ]
  },
  {
   "cell_type": "code",
   "execution_count": 43,
   "metadata": {},
   "outputs": [],
   "source": [
    "s = s.trapezoid(4, 3, 90)\n",
    "show_object(s)"
   ]
  },
  {
   "cell_type": "markdown",
   "metadata": {},
   "source": [
    "Next we want to modify the shape of the trapezoid by drawing circles at each corner. The trapezoid is made of vertices. These vertices are located at the corner on the trapezoid. Therefore to draw circles at the corners we have to select the vertices.\n",
    "\n",
    "After selecting the vertices we can draw circle centred at each vertex. The circle is created by passing radius and mode to the object.\n",
    "\n",
    "Mode can be any of the following:<br>\n",
    "  fused       : a<br>\n",
    "  cut         : s<br>\n",
    "  intersected : i<br>\n",
    "  replaced    : r<br>\n",
    "  construction: c<br>\n",
    "\n",
    "Note that construction is used for further operation and does not modify the sketch. \n",
    "Here we chain selection and creation operation. We select the vertices and draw circles at selected vertices.\n",
    "\n"
   ]
  },
  {
   "cell_type": "code",
   "execution_count": 44,
   "metadata": {},
   "outputs": [],
   "source": [
    "s = s.vertices().circle(0.5, mode=\"s\")\n",
    "show_object(s)"
   ]
  },
  {
   "cell_type": "markdown",
   "metadata": {},
   "source": [
    "To unselect the vertices we perform the reset operation. Note that we could have chained all these operations together."
   ]
  },
  {
   "cell_type": "code",
   "execution_count": 45,
   "metadata": {},
   "outputs": [],
   "source": [
    "s = s.reset()"
   ]
  },
  {
   "cell_type": "markdown",
   "metadata": {},
   "source": [
    "Next, we perform a fillet operation to make the edges more smooth.\n",
    "We have created new vertices when we added the circle in cut mode \"s\". To perform the fillet we do another selection and then perform fillet. Finally we reset the selection."
   ]
  },
  {
   "cell_type": "code",
   "execution_count": 46,
   "metadata": {},
   "outputs": [],
   "source": [
    "s = s.vertices().fillet(0.25).reset()\n",
    "show_object(s)"
   ]
  },
  {
   "cell_type": "markdown",
   "metadata": {},
   "source": [
    "Sometime we need to create patterns and apply them. We want pattern of slots. To do so we take advantage of rarray(xs: Real, ys: Real, nx: int, ny: int) to create a grid of locations and select them at the same time.\n",
    "xs and ys are spacing in x and y direction. nx and ny are the number of grid points in x and y direction.\n",
    "\n",
    "To create the slot we pass with, height,angle and mode."
   ]
  },
  {
   "cell_type": "code",
   "execution_count": 47,
   "metadata": {},
   "outputs": [],
   "source": [
    "s = s.rarray(xs=0.6,ys=1,nx=5,ny=1).slot(w=1.5,\n",
    "h=0.4,angle=90,mode=\"s\")\n",
    "show_object(s)"
   ]
  },
  {
   "cell_type": "markdown",
   "metadata": {},
   "source": [
    "## Creating a 3D model from sketch"
   ]
  },
  {
   "cell_type": "markdown",
   "metadata": {},
   "source": [
    "We will start by creating a workplane. A workplace can be thought of direction of sketch. A sketch can be placed on Horizontal, Vertical, Orthogonal or on any plane in a coordinate system.\n",
    "Here will create a workplane and add the sketch we created earlier to it."
   ]
  },
  {
   "cell_type": "code",
   "execution_count": 63,
   "metadata": {},
   "outputs": [],
   "source": [
    "wp = cq.Workplane()\n",
    "wp = wp.placeSketch(s)\n",
    "show_object(wp)"
   ]
  },
  {
   "cell_type": "markdown",
   "metadata": {},
   "source": [
    "As it can be seen when we call show_object we see nothing. This is due to the fact that workplane shows only surface and solid objects and not sketches. Next we create an extrusion from the workplane to create a solid."
   ]
  },
  {
   "cell_type": "code",
   "execution_count": 64,
   "metadata": {},
   "outputs": [],
   "source": [
    "wp = wp.extrude(0.5)\n",
    "show_object(wp)"
   ]
  },
  {
   "cell_type": "markdown",
   "metadata": {},
   "source": [
    "A Solid is made of faces. We can place a sketch in the solid face and perform another extrusion form that face. effectively stacking extrusions on top of each other. "
   ]
  },
  {
   "cell_type": "code",
   "execution_count": null,
   "metadata": {},
   "outputs": [],
   "source": []
  }
 ],
 "metadata": {
  "kernelspec": {
   "display_name": "Python 3 (ipykernel)",
   "language": "python",
   "name": "python3"
  },
  "language_info": {
   "codemirror_mode": {
    "name": "ipython",
    "version": 3
   },
   "file_extension": ".py",
   "mimetype": "text/x-python",
   "name": "python",
   "nbconvert_exporter": "python",
   "pygments_lexer": "ipython3",
   "version": "3.11.10"
  }
 },
 "nbformat": 4,
 "nbformat_minor": 2
}
